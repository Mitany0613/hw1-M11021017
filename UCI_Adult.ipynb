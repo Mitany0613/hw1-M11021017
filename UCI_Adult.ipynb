{
 "cells": [
  {
   "cell_type": "code",
   "execution_count": 1,
   "metadata": {},
   "outputs": [],
   "source": [
    "# Basic modules\n",
    "import pandas as pd\n",
    "import numpy as np\n",
    "\n",
    "# Preprocessing\n",
    "from sklearn.preprocessing import LabelEncoder\n",
    "from sklearn.preprocessing import OneHotEncoder\n",
    "from sklearn.preprocessing import MinMaxScaler\n",
    "from sklearn.model_selection import train_test_split\n",
    "\n",
    "from sklearn.tree import DecisionTreeClassifier\n",
    "\n",
    "# Model evaluation\n",
    "from sklearn.metrics import accuracy_score\n",
    "from sklearn.metrics import precision_score\n",
    "from sklearn.metrics import recall_score\n",
    "from sklearn.metrics import f1_score\n",
    "\n",
    "# Data Visualization\n",
    "from matplotlib import pyplot as plt\n",
    "import seaborn as sns\n"
   ]
  },
  {
   "cell_type": "code",
   "execution_count": 2,
   "metadata": {},
   "outputs": [
    {
     "data": {
      "text/html": [
       "<div>\n",
       "<style scoped>\n",
       "    .dataframe tbody tr th:only-of-type {\n",
       "        vertical-align: middle;\n",
       "    }\n",
       "\n",
       "    .dataframe tbody tr th {\n",
       "        vertical-align: top;\n",
       "    }\n",
       "\n",
       "    .dataframe thead th {\n",
       "        text-align: right;\n",
       "    }\n",
       "</style>\n",
       "<table border=\"1\" class=\"dataframe\">\n",
       "  <thead>\n",
       "    <tr style=\"text-align: right;\">\n",
       "      <th></th>\n",
       "      <th>age</th>\n",
       "      <th>fnlwgt</th>\n",
       "      <th>Education number</th>\n",
       "      <th>marital status</th>\n",
       "      <th>relation</th>\n",
       "      <th>Race</th>\n",
       "      <th>gender</th>\n",
       "      <th>Capital gains</th>\n",
       "      <th>Capital loss</th>\n",
       "      <th>everyweek hours</th>\n",
       "      <th>Every_aver_hr</th>\n",
       "      <th>country</th>\n",
       "      <th>sarly</th>\n",
       "    </tr>\n",
       "  </thead>\n",
       "  <tbody>\n",
       "    <tr>\n",
       "      <th>0</th>\n",
       "      <td>39</td>\n",
       "      <td>77516</td>\n",
       "      <td>13</td>\n",
       "      <td>Never-married</td>\n",
       "      <td>Not-in-family</td>\n",
       "      <td>White</td>\n",
       "      <td>Male</td>\n",
       "      <td>2174</td>\n",
       "      <td>0</td>\n",
       "      <td>40</td>\n",
       "      <td>1</td>\n",
       "      <td>United-States</td>\n",
       "      <td>0</td>\n",
       "    </tr>\n",
       "    <tr>\n",
       "      <th>1</th>\n",
       "      <td>50</td>\n",
       "      <td>83311</td>\n",
       "      <td>13</td>\n",
       "      <td>Married-civ-spouse</td>\n",
       "      <td>Husband</td>\n",
       "      <td>White</td>\n",
       "      <td>Male</td>\n",
       "      <td>0</td>\n",
       "      <td>0</td>\n",
       "      <td>13</td>\n",
       "      <td>0</td>\n",
       "      <td>United-States</td>\n",
       "      <td>0</td>\n",
       "    </tr>\n",
       "    <tr>\n",
       "      <th>2</th>\n",
       "      <td>38</td>\n",
       "      <td>215646</td>\n",
       "      <td>9</td>\n",
       "      <td>Divorced</td>\n",
       "      <td>Not-in-family</td>\n",
       "      <td>White</td>\n",
       "      <td>Male</td>\n",
       "      <td>0</td>\n",
       "      <td>0</td>\n",
       "      <td>40</td>\n",
       "      <td>1</td>\n",
       "      <td>United-States</td>\n",
       "      <td>0</td>\n",
       "    </tr>\n",
       "    <tr>\n",
       "      <th>3</th>\n",
       "      <td>53</td>\n",
       "      <td>234721</td>\n",
       "      <td>7</td>\n",
       "      <td>Married-civ-spouse</td>\n",
       "      <td>Husband</td>\n",
       "      <td>Black</td>\n",
       "      <td>Male</td>\n",
       "      <td>0</td>\n",
       "      <td>0</td>\n",
       "      <td>40</td>\n",
       "      <td>1</td>\n",
       "      <td>United-States</td>\n",
       "      <td>0</td>\n",
       "    </tr>\n",
       "    <tr>\n",
       "      <th>4</th>\n",
       "      <td>28</td>\n",
       "      <td>338409</td>\n",
       "      <td>13</td>\n",
       "      <td>Married-civ-spouse</td>\n",
       "      <td>Wife</td>\n",
       "      <td>Black</td>\n",
       "      <td>Female</td>\n",
       "      <td>0</td>\n",
       "      <td>0</td>\n",
       "      <td>40</td>\n",
       "      <td>1</td>\n",
       "      <td>Cuba</td>\n",
       "      <td>0</td>\n",
       "    </tr>\n",
       "  </tbody>\n",
       "</table>\n",
       "</div>"
      ],
      "text/plain": [
       "   age  fnlwgt  Education number       marital status        relation    Race  \\\n",
       "0   39   77516                13        Never-married   Not-in-family   White   \n",
       "1   50   83311                13   Married-civ-spouse         Husband   White   \n",
       "2   38  215646                 9             Divorced   Not-in-family   White   \n",
       "3   53  234721                 7   Married-civ-spouse         Husband   Black   \n",
       "4   28  338409                13   Married-civ-spouse            Wife   Black   \n",
       "\n",
       "    gender  Capital gains  Capital loss  everyweek hours  Every_aver_hr  \\\n",
       "0     Male           2174             0               40              1   \n",
       "1     Male              0             0               13              0   \n",
       "2     Male              0             0               40              1   \n",
       "3     Male              0             0               40              1   \n",
       "4   Female              0             0               40              1   \n",
       "\n",
       "          country  sarly  \n",
       "0   United-States      0  \n",
       "1   United-States      0  \n",
       "2   United-States      0  \n",
       "3   United-States      0  \n",
       "4            Cuba      0  "
      ]
     },
     "execution_count": 2,
     "metadata": {},
     "output_type": "execute_result"
    }
   ],
   "source": [
    "df = pd.read_csv(\"C:/Users/user/Desktop/adult.csv\",encoding = \"utf-8\")\n",
    "df.head()"
   ]
  },
  {
   "cell_type": "code",
   "execution_count": 3,
   "metadata": {},
   "outputs": [
    {
     "data": {
      "text/html": [
       "<div>\n",
       "<style scoped>\n",
       "    .dataframe tbody tr th:only-of-type {\n",
       "        vertical-align: middle;\n",
       "    }\n",
       "\n",
       "    .dataframe tbody tr th {\n",
       "        vertical-align: top;\n",
       "    }\n",
       "\n",
       "    .dataframe thead th {\n",
       "        text-align: right;\n",
       "    }\n",
       "</style>\n",
       "<table border=\"1\" class=\"dataframe\">\n",
       "  <thead>\n",
       "    <tr style=\"text-align: right;\">\n",
       "      <th></th>\n",
       "      <th>age</th>\n",
       "      <th>fnlwgt</th>\n",
       "      <th>Education number</th>\n",
       "      <th>Capital gains</th>\n",
       "      <th>Capital loss</th>\n",
       "      <th>everyweek hours</th>\n",
       "      <th>Every_aver_hr</th>\n",
       "      <th>sarly</th>\n",
       "    </tr>\n",
       "  </thead>\n",
       "  <tbody>\n",
       "    <tr>\n",
       "      <th>count</th>\n",
       "      <td>32561.000000</td>\n",
       "      <td>3.256100e+04</td>\n",
       "      <td>32561.000000</td>\n",
       "      <td>32561.000000</td>\n",
       "      <td>32561.000000</td>\n",
       "      <td>32561.000000</td>\n",
       "      <td>32561.000000</td>\n",
       "      <td>32561.000000</td>\n",
       "    </tr>\n",
       "    <tr>\n",
       "      <th>mean</th>\n",
       "      <td>38.581647</td>\n",
       "      <td>1.897784e+05</td>\n",
       "      <td>10.080679</td>\n",
       "      <td>1077.648844</td>\n",
       "      <td>87.303830</td>\n",
       "      <td>40.437456</td>\n",
       "      <td>0.178711</td>\n",
       "      <td>0.240810</td>\n",
       "    </tr>\n",
       "    <tr>\n",
       "      <th>std</th>\n",
       "      <td>13.640433</td>\n",
       "      <td>1.055500e+05</td>\n",
       "      <td>2.572720</td>\n",
       "      <td>7385.292085</td>\n",
       "      <td>402.960219</td>\n",
       "      <td>12.347429</td>\n",
       "      <td>0.383116</td>\n",
       "      <td>0.427581</td>\n",
       "    </tr>\n",
       "    <tr>\n",
       "      <th>min</th>\n",
       "      <td>17.000000</td>\n",
       "      <td>1.228500e+04</td>\n",
       "      <td>1.000000</td>\n",
       "      <td>0.000000</td>\n",
       "      <td>0.000000</td>\n",
       "      <td>1.000000</td>\n",
       "      <td>0.000000</td>\n",
       "      <td>0.000000</td>\n",
       "    </tr>\n",
       "    <tr>\n",
       "      <th>25%</th>\n",
       "      <td>28.000000</td>\n",
       "      <td>1.178270e+05</td>\n",
       "      <td>9.000000</td>\n",
       "      <td>0.000000</td>\n",
       "      <td>0.000000</td>\n",
       "      <td>40.000000</td>\n",
       "      <td>0.000000</td>\n",
       "      <td>0.000000</td>\n",
       "    </tr>\n",
       "    <tr>\n",
       "      <th>50%</th>\n",
       "      <td>37.000000</td>\n",
       "      <td>1.783560e+05</td>\n",
       "      <td>10.000000</td>\n",
       "      <td>0.000000</td>\n",
       "      <td>0.000000</td>\n",
       "      <td>40.000000</td>\n",
       "      <td>0.000000</td>\n",
       "      <td>0.000000</td>\n",
       "    </tr>\n",
       "    <tr>\n",
       "      <th>75%</th>\n",
       "      <td>48.000000</td>\n",
       "      <td>2.370510e+05</td>\n",
       "      <td>12.000000</td>\n",
       "      <td>0.000000</td>\n",
       "      <td>0.000000</td>\n",
       "      <td>45.000000</td>\n",
       "      <td>0.000000</td>\n",
       "      <td>0.000000</td>\n",
       "    </tr>\n",
       "    <tr>\n",
       "      <th>max</th>\n",
       "      <td>90.000000</td>\n",
       "      <td>1.484705e+06</td>\n",
       "      <td>16.000000</td>\n",
       "      <td>99999.000000</td>\n",
       "      <td>4356.000000</td>\n",
       "      <td>99.000000</td>\n",
       "      <td>1.000000</td>\n",
       "      <td>1.000000</td>\n",
       "    </tr>\n",
       "  </tbody>\n",
       "</table>\n",
       "</div>"
      ],
      "text/plain": [
       "                age        fnlwgt  Education number  Capital gains  \\\n",
       "count  32561.000000  3.256100e+04      32561.000000   32561.000000   \n",
       "mean      38.581647  1.897784e+05         10.080679    1077.648844   \n",
       "std       13.640433  1.055500e+05          2.572720    7385.292085   \n",
       "min       17.000000  1.228500e+04          1.000000       0.000000   \n",
       "25%       28.000000  1.178270e+05          9.000000       0.000000   \n",
       "50%       37.000000  1.783560e+05         10.000000       0.000000   \n",
       "75%       48.000000  2.370510e+05         12.000000       0.000000   \n",
       "max       90.000000  1.484705e+06         16.000000   99999.000000   \n",
       "\n",
       "       Capital loss  everyweek hours  Every_aver_hr         sarly  \n",
       "count  32561.000000     32561.000000   32561.000000  32561.000000  \n",
       "mean      87.303830        40.437456       0.178711      0.240810  \n",
       "std      402.960219        12.347429       0.383116      0.427581  \n",
       "min        0.000000         1.000000       0.000000      0.000000  \n",
       "25%        0.000000        40.000000       0.000000      0.000000  \n",
       "50%        0.000000        40.000000       0.000000      0.000000  \n",
       "75%        0.000000        45.000000       0.000000      0.000000  \n",
       "max     4356.000000        99.000000       1.000000      1.000000  "
      ]
     },
     "execution_count": 3,
     "metadata": {},
     "output_type": "execute_result"
    }
   ],
   "source": [
    "df.describe()"
   ]
  },
  {
   "cell_type": "code",
   "execution_count": 4,
   "metadata": {},
   "outputs": [
    {
     "name": "stdout",
     "output_type": "stream",
     "text": [
      "age                 True\n",
      "fnlwgt              True\n",
      "Education number    True\n",
      "marital status      True\n",
      "relation            True\n",
      "Race                True\n",
      "gender              True\n",
      "Capital gains       True\n",
      "Capital loss        True\n",
      "everyweek hours     True\n",
      "Every_aver_hr       True\n",
      "country             True\n",
      "sarly               True\n",
      "dtype: bool\n"
     ]
    }
   ],
   "source": [
    "print(df.count()==len(df))\n",
    "#是否有缺失值"
   ]
  },
  {
   "cell_type": "code",
   "execution_count": 5,
   "metadata": {},
   "outputs": [],
   "source": [
    "df_pre = df"
   ]
  },
  {
   "cell_type": "code",
   "execution_count": 6,
   "metadata": {},
   "outputs": [],
   "source": [
    "df_duplicate = df_pre[df_pre.duplicated(keep=\"last\")]\n",
    "#有重複值的保留最後一項"
   ]
  },
  {
   "cell_type": "code",
   "execution_count": 7,
   "metadata": {
    "scrolled": true
   },
   "outputs": [
    {
     "name": "stdout",
     "output_type": "stream",
     "text": [
      "       age  fnlwgt  Education number       marital status        relation  \\\n",
      "531     26  108658                 9        Never-married   Not-in-family   \n",
      "706     40  229148                 8   Married-civ-spouse         Husband   \n",
      "1194    19  187161                10        Never-married       Own-child   \n",
      "2303    90   52386                10        Never-married   Not-in-family   \n",
      "2896    46  271828                 9   Married-civ-spouse         Husband   \n",
      "...    ...     ...               ...                  ...             ...   \n",
      "22725   23  216811                 9        Never-married       Own-child   \n",
      "23851   25  367306                10        Never-married       Own-child   \n",
      "24582   30   85708                 9   Married-civ-spouse         Husband   \n",
      "25624   39   30916                 9   Married-civ-spouse         Husband   \n",
      "27412   18  170544                 7        Never-married       Own-child   \n",
      "\n",
      "                      Race   gender  Capital gains  Capital loss  \\\n",
      "531                  White     Male              0             0   \n",
      "706                  Black     Male              0             0   \n",
      "1194                 White   Female              0             0   \n",
      "2303    Asian-Pac-Islander     Male              0             0   \n",
      "2896                 White     Male              0             0   \n",
      "...                    ...      ...            ...           ...   \n",
      "22725                White   Female              0             0   \n",
      "23851                White   Female              0             0   \n",
      "24582                White     Male              0             0   \n",
      "25624                White     Male              0             0   \n",
      "27412                White     Male              0             0   \n",
      "\n",
      "       everyweek hours  Every_aver_hr         country  sarly  \n",
      "531                 40              1   United-States      0  \n",
      "706                 40              1         Jamaica      0  \n",
      "1194                25              0   United-States      0  \n",
      "2303                35              0   United-States      0  \n",
      "2896                40              1   United-States      1  \n",
      "...                ...            ...             ...    ...  \n",
      "22725               16              0   United-States      0  \n",
      "23851               40              0   United-States      0  \n",
      "24582               40              0   United-States      0  \n",
      "25624               40              0   United-States      0  \n",
      "27412               20              0   United-States      0  \n",
      "\n",
      "[66 rows x 13 columns]\n"
     ]
    }
   ],
   "source": [
    "print(df_duplicate)"
   ]
  },
  {
   "cell_type": "code",
   "execution_count": 8,
   "metadata": {},
   "outputs": [
    {
     "name": "stdout",
     "output_type": "stream",
     "text": [
      "(66, 13)\n"
     ]
    }
   ],
   "source": [
    "print(df_duplicate.shape)\n",
    "#查看矩陣或者數組的維數"
   ]
  },
  {
   "cell_type": "code",
   "execution_count": 9,
   "metadata": {},
   "outputs": [],
   "source": [
    "df_pre = df_pre.drop_duplicates()\n",
    "#去掉重複項"
   ]
  },
  {
   "cell_type": "code",
   "execution_count": 10,
   "metadata": {},
   "outputs": [
    {
     "name": "stdout",
     "output_type": "stream",
     "text": [
      "Before data-preprocessing:  (32561, 13)\n",
      "After data-preprocessing:  (32495, 13)\n"
     ]
    }
   ],
   "source": [
    "print(\"Before data-preprocessing: \", df.shape)\n",
    "print(\"After data-preprocessing: \", df_pre.shape)\n",
    "#資料處理前後差別"
   ]
  },
  {
   "cell_type": "code",
   "execution_count": 11,
   "metadata": {},
   "outputs": [
    {
     "data": {
      "text/html": [
       "<div>\n",
       "<style scoped>\n",
       "    .dataframe tbody tr th:only-of-type {\n",
       "        vertical-align: middle;\n",
       "    }\n",
       "\n",
       "    .dataframe tbody tr th {\n",
       "        vertical-align: top;\n",
       "    }\n",
       "\n",
       "    .dataframe thead th {\n",
       "        text-align: right;\n",
       "    }\n",
       "</style>\n",
       "<table border=\"1\" class=\"dataframe\">\n",
       "  <thead>\n",
       "    <tr style=\"text-align: right;\">\n",
       "      <th></th>\n",
       "      <th>age</th>\n",
       "      <th>fnlwgt</th>\n",
       "      <th>Education number</th>\n",
       "      <th>marital status</th>\n",
       "      <th>relation</th>\n",
       "      <th>Race</th>\n",
       "      <th>gender</th>\n",
       "      <th>Capital gains</th>\n",
       "      <th>Capital loss</th>\n",
       "      <th>everyweek hours</th>\n",
       "      <th>Every_aver_hr</th>\n",
       "      <th>country</th>\n",
       "      <th>sarly</th>\n",
       "    </tr>\n",
       "  </thead>\n",
       "  <tbody>\n",
       "    <tr>\n",
       "      <th>0</th>\n",
       "      <td>39</td>\n",
       "      <td>77516</td>\n",
       "      <td>13</td>\n",
       "      <td>Never-married</td>\n",
       "      <td>Not-in-family</td>\n",
       "      <td>White</td>\n",
       "      <td>Male</td>\n",
       "      <td>2174</td>\n",
       "      <td>0</td>\n",
       "      <td>40</td>\n",
       "      <td>1</td>\n",
       "      <td>United-States</td>\n",
       "      <td>0</td>\n",
       "    </tr>\n",
       "    <tr>\n",
       "      <th>1</th>\n",
       "      <td>50</td>\n",
       "      <td>83311</td>\n",
       "      <td>13</td>\n",
       "      <td>Married-civ-spouse</td>\n",
       "      <td>Husband</td>\n",
       "      <td>White</td>\n",
       "      <td>Male</td>\n",
       "      <td>0</td>\n",
       "      <td>0</td>\n",
       "      <td>13</td>\n",
       "      <td>0</td>\n",
       "      <td>United-States</td>\n",
       "      <td>0</td>\n",
       "    </tr>\n",
       "    <tr>\n",
       "      <th>2</th>\n",
       "      <td>38</td>\n",
       "      <td>215646</td>\n",
       "      <td>9</td>\n",
       "      <td>Divorced</td>\n",
       "      <td>Not-in-family</td>\n",
       "      <td>White</td>\n",
       "      <td>Male</td>\n",
       "      <td>0</td>\n",
       "      <td>0</td>\n",
       "      <td>40</td>\n",
       "      <td>1</td>\n",
       "      <td>United-States</td>\n",
       "      <td>0</td>\n",
       "    </tr>\n",
       "    <tr>\n",
       "      <th>3</th>\n",
       "      <td>53</td>\n",
       "      <td>234721</td>\n",
       "      <td>7</td>\n",
       "      <td>Married-civ-spouse</td>\n",
       "      <td>Husband</td>\n",
       "      <td>Black</td>\n",
       "      <td>Male</td>\n",
       "      <td>0</td>\n",
       "      <td>0</td>\n",
       "      <td>40</td>\n",
       "      <td>1</td>\n",
       "      <td>United-States</td>\n",
       "      <td>0</td>\n",
       "    </tr>\n",
       "    <tr>\n",
       "      <th>4</th>\n",
       "      <td>28</td>\n",
       "      <td>338409</td>\n",
       "      <td>13</td>\n",
       "      <td>Married-civ-spouse</td>\n",
       "      <td>Wife</td>\n",
       "      <td>Black</td>\n",
       "      <td>Female</td>\n",
       "      <td>0</td>\n",
       "      <td>0</td>\n",
       "      <td>40</td>\n",
       "      <td>1</td>\n",
       "      <td>Cuba</td>\n",
       "      <td>0</td>\n",
       "    </tr>\n",
       "  </tbody>\n",
       "</table>\n",
       "</div>"
      ],
      "text/plain": [
       "   age  fnlwgt  Education number       marital status        relation    Race  \\\n",
       "0   39   77516                13        Never-married   Not-in-family   White   \n",
       "1   50   83311                13   Married-civ-spouse         Husband   White   \n",
       "2   38  215646                 9             Divorced   Not-in-family   White   \n",
       "3   53  234721                 7   Married-civ-spouse         Husband   Black   \n",
       "4   28  338409                13   Married-civ-spouse            Wife   Black   \n",
       "\n",
       "    gender  Capital gains  Capital loss  everyweek hours  Every_aver_hr  \\\n",
       "0     Male           2174             0               40              1   \n",
       "1     Male              0             0               13              0   \n",
       "2     Male              0             0               40              1   \n",
       "3     Male              0             0               40              1   \n",
       "4   Female              0             0               40              1   \n",
       "\n",
       "          country  sarly  \n",
       "0   United-States      0  \n",
       "1   United-States      0  \n",
       "2   United-States      0  \n",
       "3   United-States      0  \n",
       "4            Cuba      0  "
      ]
     },
     "execution_count": 11,
     "metadata": {},
     "output_type": "execute_result"
    }
   ],
   "source": [
    "df_labelencoder = df_pre\n",
    "df_onehotencoder = df_pre\n",
    "df_pre.head()"
   ]
  },
  {
   "cell_type": "code",
   "execution_count": 12,
   "metadata": {},
   "outputs": [],
   "source": [
    "col_num = [\"age\", \"Working class\", \"Education number\",\"everyweek hours\",\"sarly\"]\n",
    "#需要的欄位值"
   ]
  },
  {
   "cell_type": "code",
   "execution_count": 13,
   "metadata": {},
   "outputs": [
    {
     "data": {
      "text/plain": [
       "Index(['Capital gains', 'Capital loss', 'Every_aver_hr', 'Race', 'country',\n",
       "       'fnlwgt', 'gender', 'marital status', 'relation'],\n",
       "      dtype='object')"
      ]
     },
     "execution_count": 13,
     "metadata": {},
     "output_type": "execute_result"
    }
   ],
   "source": [
    "col_cat = df_pre.columns.difference(col_num) \n",
    "col_cat"
   ]
  },
  {
   "cell_type": "code",
   "execution_count": 14,
   "metadata": {},
   "outputs": [
    {
     "data": {
      "text/plain": [
       "[(0, 'age'),\n",
       " (1, 'Working class'),\n",
       " (2, 'Education number'),\n",
       " (3, 'everyweek hours'),\n",
       " (4, 'sarly')]"
      ]
     },
     "execution_count": 14,
     "metadata": {},
     "output_type": "execute_result"
    }
   ],
   "source": [
    "list(enumerate(col_num))"
   ]
  },
  {
   "cell_type": "code",
   "execution_count": 15,
   "metadata": {},
   "outputs": [
    {
     "name": "stderr",
     "output_type": "stream",
     "text": [
      "C:\\Users\\user\\anaconda3\\lib\\site-packages\\pandas\\core\\frame.py:3191: SettingWithCopyWarning: \n",
      "A value is trying to be set on a copy of a slice from a DataFrame.\n",
      "Try using .loc[row_indexer,col_indexer] = value instead\n",
      "\n",
      "See the caveats in the documentation: https://pandas.pydata.org/pandas-docs/stable/user_guide/indexing.html#returning-a-view-versus-a-copy\n",
      "  self[k1] = value[k2]\n"
     ]
    },
    {
     "data": {
      "text/html": [
       "<div>\n",
       "<style scoped>\n",
       "    .dataframe tbody tr th:only-of-type {\n",
       "        vertical-align: middle;\n",
       "    }\n",
       "\n",
       "    .dataframe tbody tr th {\n",
       "        vertical-align: top;\n",
       "    }\n",
       "\n",
       "    .dataframe thead th {\n",
       "        text-align: right;\n",
       "    }\n",
       "</style>\n",
       "<table border=\"1\" class=\"dataframe\">\n",
       "  <thead>\n",
       "    <tr style=\"text-align: right;\">\n",
       "      <th></th>\n",
       "      <th>age</th>\n",
       "      <th>fnlwgt</th>\n",
       "      <th>Education number</th>\n",
       "      <th>marital status</th>\n",
       "      <th>relation</th>\n",
       "      <th>Race</th>\n",
       "      <th>gender</th>\n",
       "      <th>Capital gains</th>\n",
       "      <th>Capital loss</th>\n",
       "      <th>everyweek hours</th>\n",
       "      <th>Every_aver_hr</th>\n",
       "      <th>country</th>\n",
       "      <th>sarly</th>\n",
       "    </tr>\n",
       "  </thead>\n",
       "  <tbody>\n",
       "    <tr>\n",
       "      <th>0</th>\n",
       "      <td>39</td>\n",
       "      <td>2671</td>\n",
       "      <td>13</td>\n",
       "      <td>4</td>\n",
       "      <td>1</td>\n",
       "      <td>4</td>\n",
       "      <td>1</td>\n",
       "      <td>25</td>\n",
       "      <td>0</td>\n",
       "      <td>40</td>\n",
       "      <td>1</td>\n",
       "      <td>39</td>\n",
       "      <td>0</td>\n",
       "    </tr>\n",
       "    <tr>\n",
       "      <th>1</th>\n",
       "      <td>50</td>\n",
       "      <td>2926</td>\n",
       "      <td>13</td>\n",
       "      <td>2</td>\n",
       "      <td>0</td>\n",
       "      <td>4</td>\n",
       "      <td>1</td>\n",
       "      <td>0</td>\n",
       "      <td>0</td>\n",
       "      <td>13</td>\n",
       "      <td>0</td>\n",
       "      <td>39</td>\n",
       "      <td>0</td>\n",
       "    </tr>\n",
       "    <tr>\n",
       "      <th>2</th>\n",
       "      <td>38</td>\n",
       "      <td>14086</td>\n",
       "      <td>9</td>\n",
       "      <td>0</td>\n",
       "      <td>1</td>\n",
       "      <td>4</td>\n",
       "      <td>1</td>\n",
       "      <td>0</td>\n",
       "      <td>0</td>\n",
       "      <td>40</td>\n",
       "      <td>1</td>\n",
       "      <td>39</td>\n",
       "      <td>0</td>\n",
       "    </tr>\n",
       "    <tr>\n",
       "      <th>3</th>\n",
       "      <td>53</td>\n",
       "      <td>15336</td>\n",
       "      <td>7</td>\n",
       "      <td>2</td>\n",
       "      <td>0</td>\n",
       "      <td>2</td>\n",
       "      <td>1</td>\n",
       "      <td>0</td>\n",
       "      <td>0</td>\n",
       "      <td>40</td>\n",
       "      <td>1</td>\n",
       "      <td>39</td>\n",
       "      <td>0</td>\n",
       "    </tr>\n",
       "    <tr>\n",
       "      <th>4</th>\n",
       "      <td>28</td>\n",
       "      <td>19355</td>\n",
       "      <td>13</td>\n",
       "      <td>2</td>\n",
       "      <td>5</td>\n",
       "      <td>2</td>\n",
       "      <td>0</td>\n",
       "      <td>0</td>\n",
       "      <td>0</td>\n",
       "      <td>40</td>\n",
       "      <td>1</td>\n",
       "      <td>5</td>\n",
       "      <td>0</td>\n",
       "    </tr>\n",
       "  </tbody>\n",
       "</table>\n",
       "</div>"
      ],
      "text/plain": [
       "   age  fnlwgt  Education number  marital status  relation  Race  gender  \\\n",
       "0   39    2671                13               4         1     4       1   \n",
       "1   50    2926                13               2         0     4       1   \n",
       "2   38   14086                 9               0         1     4       1   \n",
       "3   53   15336                 7               2         0     2       1   \n",
       "4   28   19355                13               2         5     2       0   \n",
       "\n",
       "   Capital gains  Capital loss  everyweek hours  Every_aver_hr  country  sarly  \n",
       "0             25             0               40              1       39      0  \n",
       "1              0             0               13              0       39      0  \n",
       "2              0             0               40              1       39      0  \n",
       "3              0             0               40              1       39      0  \n",
       "4              0             0               40              1        5      0  "
      ]
     },
     "execution_count": 15,
     "metadata": {},
     "output_type": "execute_result"
    }
   ],
   "source": [
    "# Import LabelEncoder to convert categoricla data\n",
    "from sklearn.preprocessing import LabelEncoder\n",
    "\n",
    "# Use LabelEncoder to convert categorical variables to numerical ones\n",
    "df_labelencoder[col_cat] = df_labelencoder[col_cat].apply(LabelEncoder().fit_transform)\n",
    "df_labelencoder.head()"
   ]
  },
  {
   "cell_type": "code",
   "execution_count": 16,
   "metadata": {},
   "outputs": [
    {
     "name": "stdout",
     "output_type": "stream",
     "text": [
      "[0 1]\n"
     ]
    }
   ],
   "source": [
    "print(df_pre['sarly'].unique())\n",
    "#查看[]裡面的獨特值，EX:[1 2 3 4]等"
   ]
  },
  {
   "cell_type": "code",
   "execution_count": 19,
   "metadata": {
    "scrolled": true
   },
   "outputs": [
    {
     "data": {
      "text/html": [
       "<div>\n",
       "<style scoped>\n",
       "    .dataframe tbody tr th:only-of-type {\n",
       "        vertical-align: middle;\n",
       "    }\n",
       "\n",
       "    .dataframe tbody tr th {\n",
       "        vertical-align: top;\n",
       "    }\n",
       "\n",
       "    .dataframe thead th {\n",
       "        text-align: right;\n",
       "    }\n",
       "</style>\n",
       "<table border=\"1\" class=\"dataframe\">\n",
       "  <thead>\n",
       "    <tr style=\"text-align: right;\">\n",
       "      <th></th>\n",
       "      <th>0</th>\n",
       "      <th>1</th>\n",
       "    </tr>\n",
       "  </thead>\n",
       "  <tbody>\n",
       "    <tr>\n",
       "      <th>0</th>\n",
       "      <td>0.0</td>\n",
       "      <td>1.0</td>\n",
       "    </tr>\n",
       "    <tr>\n",
       "      <th>1</th>\n",
       "      <td>0.0</td>\n",
       "      <td>1.0</td>\n",
       "    </tr>\n",
       "    <tr>\n",
       "      <th>2</th>\n",
       "      <td>0.0</td>\n",
       "      <td>1.0</td>\n",
       "    </tr>\n",
       "    <tr>\n",
       "      <th>3</th>\n",
       "      <td>0.0</td>\n",
       "      <td>1.0</td>\n",
       "    </tr>\n",
       "    <tr>\n",
       "      <th>4</th>\n",
       "      <td>1.0</td>\n",
       "      <td>0.0</td>\n",
       "    </tr>\n",
       "  </tbody>\n",
       "</table>\n",
       "</div>"
      ],
      "text/plain": [
       "     0    1\n",
       "0  0.0  1.0\n",
       "1  0.0  1.0\n",
       "2  0.0  1.0\n",
       "3  0.0  1.0\n",
       "4  1.0  0.0"
      ]
     },
     "execution_count": 19,
     "metadata": {},
     "output_type": "execute_result"
    }
   ],
   "source": [
    "# Import OneHotEncoder to convert categorical data\n",
    "from sklearn.preprocessing import OneHotEncoder\n",
    "\n",
    "# Initialize a OneHotEncoder\n",
    "ohe = OneHotEncoder(categories=\"auto\")\n",
    "\n",
    "# Convert \"education\" to sparse array\n",
    "sarr_edu = ohe.fit_transform(df_pre[[\"gender\"]]).toarray()\n",
    "\n",
    "\n",
    "\n",
    "# One hot features\n",
    "edu_features = pd.DataFrame(sarr_edu)\n",
    "\n",
    "\n",
    "edu_features.head()"
   ]
  },
  {
   "cell_type": "code",
   "execution_count": 20,
   "metadata": {},
   "outputs": [
    {
     "data": {
      "text/html": [
       "<div>\n",
       "<style scoped>\n",
       "    .dataframe tbody tr th:only-of-type {\n",
       "        vertical-align: middle;\n",
       "    }\n",
       "\n",
       "    .dataframe tbody tr th {\n",
       "        vertical-align: top;\n",
       "    }\n",
       "\n",
       "    .dataframe thead th {\n",
       "        text-align: right;\n",
       "    }\n",
       "</style>\n",
       "<table border=\"1\" class=\"dataframe\">\n",
       "  <thead>\n",
       "    <tr style=\"text-align: right;\">\n",
       "      <th></th>\n",
       "      <th>0</th>\n",
       "      <th>1</th>\n",
       "    </tr>\n",
       "  </thead>\n",
       "  <tbody>\n",
       "    <tr>\n",
       "      <th>0</th>\n",
       "      <td>0.0</td>\n",
       "      <td>1.0</td>\n",
       "    </tr>\n",
       "    <tr>\n",
       "      <th>1</th>\n",
       "      <td>1.0</td>\n",
       "      <td>0.0</td>\n",
       "    </tr>\n",
       "    <tr>\n",
       "      <th>2</th>\n",
       "      <td>0.0</td>\n",
       "      <td>1.0</td>\n",
       "    </tr>\n",
       "    <tr>\n",
       "      <th>3</th>\n",
       "      <td>0.0</td>\n",
       "      <td>1.0</td>\n",
       "    </tr>\n",
       "    <tr>\n",
       "      <th>4</th>\n",
       "      <td>0.0</td>\n",
       "      <td>1.0</td>\n",
       "    </tr>\n",
       "  </tbody>\n",
       "</table>\n",
       "</div>"
      ],
      "text/plain": [
       "     0    1\n",
       "0  0.0  1.0\n",
       "1  1.0  0.0\n",
       "2  0.0  1.0\n",
       "3  0.0  1.0\n",
       "4  0.0  1.0"
      ]
     },
     "execution_count": 20,
     "metadata": {},
     "output_type": "execute_result"
    }
   ],
   "source": [
    "# Import OneHotEncoder to convert categorical data\n",
    "from sklearn.preprocessing import OneHotEncoder\n",
    "\n",
    "# Initialize a OneHotEncoder\n",
    "ohe = OneHotEncoder(categories=\"auto\")\n",
    "\n",
    "# Convert \"education\" to sparse array\n",
    "sarr_edu0 = ohe.fit_transform(df_pre[[\"Every_aver_hr\"]]).toarray()\n",
    "\n",
    "\n",
    "\n",
    "# One hot features\n",
    "edu_features0 = pd.DataFrame(sarr_edu0)\n",
    "\n",
    "\n",
    "edu_features0.head()"
   ]
  },
  {
   "cell_type": "code",
   "execution_count": 21,
   "metadata": {
    "scrolled": true
   },
   "outputs": [
    {
     "data": {
      "text/html": [
       "<div>\n",
       "<style scoped>\n",
       "    .dataframe tbody tr th:only-of-type {\n",
       "        vertical-align: middle;\n",
       "    }\n",
       "\n",
       "    .dataframe tbody tr th {\n",
       "        vertical-align: top;\n",
       "    }\n",
       "\n",
       "    .dataframe thead th {\n",
       "        text-align: right;\n",
       "    }\n",
       "</style>\n",
       "<table border=\"1\" class=\"dataframe\">\n",
       "  <thead>\n",
       "    <tr style=\"text-align: right;\">\n",
       "      <th></th>\n",
       "      <th>age</th>\n",
       "      <th>fnlwgt</th>\n",
       "      <th>Education number</th>\n",
       "      <th>marital status</th>\n",
       "      <th>relation</th>\n",
       "      <th>Race</th>\n",
       "      <th>gender</th>\n",
       "      <th>Capital gains</th>\n",
       "      <th>Capital loss</th>\n",
       "      <th>everyweek hours</th>\n",
       "      <th>Every_aver_hr</th>\n",
       "      <th>country</th>\n",
       "      <th>sarly</th>\n",
       "    </tr>\n",
       "  </thead>\n",
       "  <tbody>\n",
       "    <tr>\n",
       "      <th>0</th>\n",
       "      <td>39</td>\n",
       "      <td>2671</td>\n",
       "      <td>13</td>\n",
       "      <td>4</td>\n",
       "      <td>1</td>\n",
       "      <td>4</td>\n",
       "      <td>1</td>\n",
       "      <td>25</td>\n",
       "      <td>0</td>\n",
       "      <td>40</td>\n",
       "      <td>1</td>\n",
       "      <td>39</td>\n",
       "      <td>0</td>\n",
       "    </tr>\n",
       "    <tr>\n",
       "      <th>1</th>\n",
       "      <td>50</td>\n",
       "      <td>2926</td>\n",
       "      <td>13</td>\n",
       "      <td>2</td>\n",
       "      <td>0</td>\n",
       "      <td>4</td>\n",
       "      <td>1</td>\n",
       "      <td>0</td>\n",
       "      <td>0</td>\n",
       "      <td>13</td>\n",
       "      <td>0</td>\n",
       "      <td>39</td>\n",
       "      <td>0</td>\n",
       "    </tr>\n",
       "    <tr>\n",
       "      <th>2</th>\n",
       "      <td>38</td>\n",
       "      <td>14086</td>\n",
       "      <td>9</td>\n",
       "      <td>0</td>\n",
       "      <td>1</td>\n",
       "      <td>4</td>\n",
       "      <td>1</td>\n",
       "      <td>0</td>\n",
       "      <td>0</td>\n",
       "      <td>40</td>\n",
       "      <td>1</td>\n",
       "      <td>39</td>\n",
       "      <td>0</td>\n",
       "    </tr>\n",
       "    <tr>\n",
       "      <th>3</th>\n",
       "      <td>53</td>\n",
       "      <td>15336</td>\n",
       "      <td>7</td>\n",
       "      <td>2</td>\n",
       "      <td>0</td>\n",
       "      <td>2</td>\n",
       "      <td>1</td>\n",
       "      <td>0</td>\n",
       "      <td>0</td>\n",
       "      <td>40</td>\n",
       "      <td>1</td>\n",
       "      <td>39</td>\n",
       "      <td>0</td>\n",
       "    </tr>\n",
       "    <tr>\n",
       "      <th>4</th>\n",
       "      <td>28</td>\n",
       "      <td>19355</td>\n",
       "      <td>13</td>\n",
       "      <td>2</td>\n",
       "      <td>5</td>\n",
       "      <td>2</td>\n",
       "      <td>0</td>\n",
       "      <td>0</td>\n",
       "      <td>0</td>\n",
       "      <td>40</td>\n",
       "      <td>1</td>\n",
       "      <td>5</td>\n",
       "      <td>0</td>\n",
       "    </tr>\n",
       "    <tr>\n",
       "      <th>...</th>\n",
       "      <td>...</td>\n",
       "      <td>...</td>\n",
       "      <td>...</td>\n",
       "      <td>...</td>\n",
       "      <td>...</td>\n",
       "      <td>...</td>\n",
       "      <td>...</td>\n",
       "      <td>...</td>\n",
       "      <td>...</td>\n",
       "      <td>...</td>\n",
       "      <td>...</td>\n",
       "      <td>...</td>\n",
       "      <td>...</td>\n",
       "    </tr>\n",
       "    <tr>\n",
       "      <th>32556</th>\n",
       "      <td>27</td>\n",
       "      <td>16528</td>\n",
       "      <td>12</td>\n",
       "      <td>2</td>\n",
       "      <td>5</td>\n",
       "      <td>4</td>\n",
       "      <td>0</td>\n",
       "      <td>0</td>\n",
       "      <td>0</td>\n",
       "      <td>38</td>\n",
       "      <td>0</td>\n",
       "      <td>39</td>\n",
       "      <td>0</td>\n",
       "    </tr>\n",
       "    <tr>\n",
       "      <th>32557</th>\n",
       "      <td>40</td>\n",
       "      <td>8080</td>\n",
       "      <td>9</td>\n",
       "      <td>2</td>\n",
       "      <td>0</td>\n",
       "      <td>4</td>\n",
       "      <td>1</td>\n",
       "      <td>0</td>\n",
       "      <td>0</td>\n",
       "      <td>40</td>\n",
       "      <td>0</td>\n",
       "      <td>39</td>\n",
       "      <td>1</td>\n",
       "    </tr>\n",
       "    <tr>\n",
       "      <th>32558</th>\n",
       "      <td>58</td>\n",
       "      <td>7883</td>\n",
       "      <td>9</td>\n",
       "      <td>6</td>\n",
       "      <td>4</td>\n",
       "      <td>4</td>\n",
       "      <td>0</td>\n",
       "      <td>0</td>\n",
       "      <td>0</td>\n",
       "      <td>40</td>\n",
       "      <td>0</td>\n",
       "      <td>39</td>\n",
       "      <td>0</td>\n",
       "    </tr>\n",
       "    <tr>\n",
       "      <th>32559</th>\n",
       "      <td>22</td>\n",
       "      <td>12881</td>\n",
       "      <td>9</td>\n",
       "      <td>4</td>\n",
       "      <td>3</td>\n",
       "      <td>4</td>\n",
       "      <td>1</td>\n",
       "      <td>0</td>\n",
       "      <td>0</td>\n",
       "      <td>20</td>\n",
       "      <td>0</td>\n",
       "      <td>39</td>\n",
       "      <td>0</td>\n",
       "    </tr>\n",
       "    <tr>\n",
       "      <th>32560</th>\n",
       "      <td>52</td>\n",
       "      <td>17825</td>\n",
       "      <td>9</td>\n",
       "      <td>2</td>\n",
       "      <td>5</td>\n",
       "      <td>4</td>\n",
       "      <td>0</td>\n",
       "      <td>108</td>\n",
       "      <td>0</td>\n",
       "      <td>40</td>\n",
       "      <td>0</td>\n",
       "      <td>39</td>\n",
       "      <td>1</td>\n",
       "    </tr>\n",
       "  </tbody>\n",
       "</table>\n",
       "<p>32495 rows × 13 columns</p>\n",
       "</div>"
      ],
      "text/plain": [
       "       age  fnlwgt  Education number  marital status  relation  Race  gender  \\\n",
       "0       39    2671                13               4         1     4       1   \n",
       "1       50    2926                13               2         0     4       1   \n",
       "2       38   14086                 9               0         1     4       1   \n",
       "3       53   15336                 7               2         0     2       1   \n",
       "4       28   19355                13               2         5     2       0   \n",
       "...    ...     ...               ...             ...       ...   ...     ...   \n",
       "32556   27   16528                12               2         5     4       0   \n",
       "32557   40    8080                 9               2         0     4       1   \n",
       "32558   58    7883                 9               6         4     4       0   \n",
       "32559   22   12881                 9               4         3     4       1   \n",
       "32560   52   17825                 9               2         5     4       0   \n",
       "\n",
       "       Capital gains  Capital loss  everyweek hours  Every_aver_hr  country  \\\n",
       "0                 25             0               40              1       39   \n",
       "1                  0             0               13              0       39   \n",
       "2                  0             0               40              1       39   \n",
       "3                  0             0               40              1       39   \n",
       "4                  0             0               40              1        5   \n",
       "...              ...           ...              ...            ...      ...   \n",
       "32556              0             0               38              0       39   \n",
       "32557              0             0               40              0       39   \n",
       "32558              0             0               40              0       39   \n",
       "32559              0             0               20              0       39   \n",
       "32560            108             0               40              0       39   \n",
       "\n",
       "       sarly  \n",
       "0          0  \n",
       "1          0  \n",
       "2          0  \n",
       "3          0  \n",
       "4          0  \n",
       "...      ...  \n",
       "32556      0  \n",
       "32557      1  \n",
       "32558      0  \n",
       "32559      0  \n",
       "32560      1  \n",
       "\n",
       "[32495 rows x 13 columns]"
      ]
     },
     "execution_count": 21,
     "metadata": {},
     "output_type": "execute_result"
    }
   ],
   "source": [
    "df_pre"
   ]
  },
  {
   "cell_type": "code",
   "execution_count": 22,
   "metadata": {},
   "outputs": [],
   "source": [
    "X = df_pre.loc[:, df_pre.columns != \"sarly\"]\n",
    "\n",
    "# This is target variable\n",
    "#最後需要預估出的值\n",
    "y = df_pre[\"sarly\"]"
   ]
  },
  {
   "cell_type": "code",
   "execution_count": 23,
   "metadata": {
    "scrolled": true
   },
   "outputs": [
    {
     "name": "stdout",
     "output_type": "stream",
     "text": [
      "       age  fnlwgt  Education number  marital status  relation  Race  gender  \\\n",
      "0       39    2671                13               4         1     4       1   \n",
      "1       50    2926                13               2         0     4       1   \n",
      "2       38   14086                 9               0         1     4       1   \n",
      "3       53   15336                 7               2         0     2       1   \n",
      "4       28   19355                13               2         5     2       0   \n",
      "...    ...     ...               ...             ...       ...   ...     ...   \n",
      "32556   27   16528                12               2         5     4       0   \n",
      "32557   40    8080                 9               2         0     4       1   \n",
      "32558   58    7883                 9               6         4     4       0   \n",
      "32559   22   12881                 9               4         3     4       1   \n",
      "32560   52   17825                 9               2         5     4       0   \n",
      "\n",
      "       Capital gains  Capital loss  everyweek hours  Every_aver_hr  country  \n",
      "0                 25             0               40              1       39  \n",
      "1                  0             0               13              0       39  \n",
      "2                  0             0               40              1       39  \n",
      "3                  0             0               40              1       39  \n",
      "4                  0             0               40              1        5  \n",
      "...              ...           ...              ...            ...      ...  \n",
      "32556              0             0               38              0       39  \n",
      "32557              0             0               40              0       39  \n",
      "32558              0             0               40              0       39  \n",
      "32559              0             0               20              0       39  \n",
      "32560            108             0               40              0       39  \n",
      "\n",
      "[32495 rows x 12 columns]\n"
     ]
    }
   ],
   "source": [
    "print(X)"
   ]
  },
  {
   "cell_type": "code",
   "execution_count": 24,
   "metadata": {},
   "outputs": [
    {
     "name": "stdout",
     "output_type": "stream",
     "text": [
      "0        0\n",
      "1        0\n",
      "2        0\n",
      "3        0\n",
      "4        0\n",
      "        ..\n",
      "32556    0\n",
      "32557    1\n",
      "32558    0\n",
      "32559    0\n",
      "32560    1\n",
      "Name: sarly, Length: 32495, dtype: int64\n"
     ]
    }
   ],
   "source": [
    "print(y)"
   ]
  },
  {
   "cell_type": "code",
   "execution_count": 25,
   "metadata": {},
   "outputs": [
    {
     "data": {
      "text/plain": [
       "(22746, 9749, 22746, 9749)"
      ]
     },
     "execution_count": 25,
     "metadata": {},
     "output_type": "execute_result"
    }
   ],
   "source": [
    "# Import the package from sklearn for spliting dataset\n",
    "from sklearn.model_selection import train_test_split\n",
    "\n",
    "# You may split the dataset into any portion you want\n",
    "# \"test_size\" is the \"portion parameter\" you can use\n",
    "# Now, we just split them into 70%(traning) 30%(testing)\n",
    "X_train, X_test, y_train, y_test = train_test_split(X, y, test_size=0.3)\n",
    "\n",
    "# Check the result\n",
    "len(X_train), len(X_test), len(y_train), len(y_test)"
   ]
  },
  {
   "cell_type": "code",
   "execution_count": 26,
   "metadata": {},
   "outputs": [],
   "source": [
    "# Import model evaluation packages\n",
    "# We will provide 4 commonly used model evaluation methods\n",
    "from sklearn.metrics import accuracy_score\n",
    "from sklearn.metrics import precision_score\n",
    "from sklearn.metrics import recall_score\n",
    "from sklearn.metrics import f1_score\n",
    "\n",
    "# First, let's program a function that will help us simplify the traning process.\n",
    "# We just need to pass traning dataset and pre-initiated machine learning model to the function, and it wll do the rest.\n",
    "\n",
    "def evaluate(dtc, X_train, y_train):\n",
    "    # With this line, your ML model will fit the traning dataset automatically.\n",
    "    # However, it's much better to understand the theory behind it before using any ML model.\n",
    "    dtc.fit(X_train, y_train)\n",
    "\n",
    "    # Print the algorithm you use and the traning result.\n",
    "    # We compare the result from the model to traning dataset.\n",
    "    print(f\"Algorithm: {dtc}\" + \"\\n\")\n",
    "    print(f\"Accuracy is: {round(dtc.score(X_test, y_test), 2)}\")\n",
    "    #####################################################################\n",
    "    # This line will help you get prediction value of target variable.\n",
    "    \n",
    "    y_pred = dtc.predict(X_test)\n",
    " \n",
    " #\n",
    "    # Use the model evaluation tools from Sklearn\n",
    "    accuracy = round(accuracy_score(y_test, y_pred), 2)\n",
    "    precision = round(precision_score(y_test, y_pred), 2)\n",
    "    recall = round(recall_score(y_test, y_pred), 2)\n",
    "    f1 = round(f1_score(y_test, y_pred), 2)\n",
    "    \n",
    "    # Print out the result\n",
    "    print(f\"Precision is: {precision}\")\n",
    "    print(f\"Recall is: {recall}\")\n",
    "    print(f\"f1 is: {f1}\")\n",
    "\n",
    "    # Pass the reslut\n",
    "    return np.array([accuracy, precision, recall, f1])"
   ]
  },
  {
   "cell_type": "code",
   "execution_count": 27,
   "metadata": {},
   "outputs": [],
   "source": [
    "# Import model evaluation packages\n",
    "# We will provide 4 commonly used model evaluation methods\n",
    "from sklearn.metrics import accuracy_score\n",
    "from sklearn.metrics import precision_score\n",
    "from sklearn.metrics import recall_score\n",
    "from sklearn.metrics import f1_score\n",
    "\n",
    "# First, let's program a function that will help us simplify the traning process.\n",
    "# We just need to pass traning dataset and pre-initiated machine learning model to the function, and it wll do the rest.\n",
    "\n",
    "def evaluate(dtc, X_test, y_test):\n",
    "    # With this line, your ML model will fit the traning dataset automatically.\n",
    "    # However, it's much better to understand the theory behind it before using any ML model.\n",
    "    dtc.fit(X_test, y_test)\n",
    "\n",
    "    # Print the algorithm you use and the traning result.\n",
    "    # We compare the result from the model to traning dataset.\n",
    "    print(f\"Algorithm: {dtc}\" + \"\\n\")\n",
    "    print(f\"Accuracy is: {round(dtc.score(X_train, y_train), 2)}\")\n",
    "    #####################################################################\n",
    "    # This line will help you get prediction value of target variable.\n",
    "    \n",
    "    y_pred = dtc.predict(X_train)\n",
    " \n",
    " #\n",
    "    # Use the model evaluation tools from Sklearn\n",
    "    accuracy = round(accuracy_score(y_train, y_pred), 2)\n",
    "    precision = round(precision_score(y_train, y_pred), 2)\n",
    "    recall = round(recall_score(y_train, y_pred), 2)\n",
    "    f1 = round(f1_score(y_train, y_pred), 2)\n",
    "    \n",
    "    # Print out the result\n",
    "    print(f\"Precision is: {precision}\")\n",
    "    print(f\"Recall is: {recall}\")\n",
    "    print(f\"f1 is: {f1}\")\n",
    "\n",
    "    # Pass the reslut\n",
    "    return np.array([accuracy, precision, recall, f1])"
   ]
  },
  {
   "cell_type": "code",
   "execution_count": 28,
   "metadata": {},
   "outputs": [],
   "source": [
    "arr_eval = np.array([])"
   ]
  },
  {
   "cell_type": "code",
   "execution_count": 29,
   "metadata": {},
   "outputs": [],
   "source": [
    "# Import Decision tree from Sklearn\n",
    "from sklearn.tree import DecisionTreeClassifier\n",
    "\n",
    "# Initiate DecisionTreeClassifier() object\n",
    "dtc = DecisionTreeClassifier(criterion='gini',max_depth=3,max_leaf_nodes=5,splitter='random')\n",
    "#可以修改樹深參數、節點數及其他設定\n",
    "\n",
    "# Start the function and store the result to \"arr_eval\"\n",
    "# arr_eval = np.append(arr_eval, evaluate(dtc, X_train, y_train), axis=0)\n",
    "# arr_eval"
   ]
  },
  {
   "cell_type": "code",
   "execution_count": 30,
   "metadata": {},
   "outputs": [
    {
     "name": "stdout",
     "output_type": "stream",
     "text": [
      "Algorithm: DecisionTreeClassifier(max_depth=3, max_leaf_nodes=5, splitter='random')\n",
      "\n",
      "Accuracy is: 0.8\n",
      "Precision is: 0.84\n",
      "Recall is: 0.21\n",
      "f1 is: 0.33\n"
     ]
    }
   ],
   "source": [
    "arr_eval = np.append(arr_eval, evaluate(dtc, X_train, y_train), axis=0)"
   ]
  },
  {
   "cell_type": "code",
   "execution_count": 31,
   "metadata": {},
   "outputs": [
    {
     "name": "stdout",
     "output_type": "stream",
     "text": [
      "Algorithm: DecisionTreeClassifier(max_depth=3, max_leaf_nodes=5, splitter='random')\n",
      "\n",
      "Accuracy is: 0.81\n",
      "Precision is: 0.6\n",
      "Recall is: 0.59\n",
      "f1 is: 0.6\n"
     ]
    }
   ],
   "source": [
    "arr_eval = np.append(arr_eval, evaluate(dtc, X_test, y_test), axis=0)"
   ]
  },
  {
   "cell_type": "code",
   "execution_count": 32,
   "metadata": {},
   "outputs": [],
   "source": [
    "import matplotlib.pyplot as plt"
   ]
  },
  {
   "cell_type": "code",
   "execution_count": 33,
   "metadata": {},
   "outputs": [
    {
     "data": {
      "text/plain": [
       "DecisionTreeClassifier(max_depth=3, max_leaf_nodes=5, splitter='random')"
      ]
     },
     "execution_count": 33,
     "metadata": {},
     "output_type": "execute_result"
    }
   ],
   "source": [
    "dtc.fit(X_train, y_train)"
   ]
  },
  {
   "cell_type": "code",
   "execution_count": 34,
   "metadata": {},
   "outputs": [
    {
     "data": {
      "text/plain": [
       "array([0, 0, 0, ..., 0, 0, 0], dtype=int64)"
      ]
     },
     "execution_count": 34,
     "metadata": {},
     "output_type": "execute_result"
    }
   ],
   "source": [
    "dtc.predict(X_test)"
   ]
  },
  {
   "cell_type": "code",
   "execution_count": 35,
   "metadata": {},
   "outputs": [],
   "source": [
    "from sklearn import tree"
   ]
  },
  {
   "cell_type": "code",
   "execution_count": 36,
   "metadata": {},
   "outputs": [
    {
     "data": {
      "text/plain": [
       "[Text(186.0, 190.26, 'X[2] <= 12.314\\ngini = 0.367\\nsamples = 22746\\nvalue = [17231, 5515]'),\n",
       " Text(111.60000000000001, 135.9, 'X[4] <= 0.282\\ngini = 0.271\\nsamples = 17088\\nvalue = [14332, 2756]'),\n",
       " Text(74.4, 81.53999999999999, 'X[7] <= 86.611\\ngini = 0.442\\nsamples = 6454\\nvalue = [4324, 2130]'),\n",
       " Text(37.2, 27.180000000000007, 'gini = 0.421\\nsamples = 6181\\nvalue = [4318, 1863]'),\n",
       " Text(111.60000000000001, 27.180000000000007, 'gini = 0.043\\nsamples = 273\\nvalue = [6, 267]'),\n",
       " Text(148.8, 81.53999999999999, 'gini = 0.111\\nsamples = 10634\\nvalue = [10008, 626]'),\n",
       " Text(260.40000000000003, 135.9, 'X[6] <= 0.834\\ngini = 0.5\\nsamples = 5658\\nvalue = [2899, 2759]'),\n",
       " Text(223.20000000000002, 81.53999999999999, 'gini = 0.388\\nsamples = 1634\\nvalue = [1204, 430]'),\n",
       " Text(297.6, 81.53999999999999, 'gini = 0.488\\nsamples = 4024\\nvalue = [1695, 2329]')]"
      ]
     },
     "execution_count": 36,
     "metadata": {},
     "output_type": "execute_result"
    },
    {
     "data": {
      "image/png": "[encoded data removed]",
      "text/plain": [
       "<Figure size 432x288 with 1 Axes>"
      ]
     },
     "metadata": {
      "needs_background": "light"
     },
     "output_type": "display_data"
    }
   ],
   "source": [
    "tree.plot_tree(dtc)\n",
    "#訓練資料模型"
   ]
  },
  {
   "cell_type": "code",
   "execution_count": 37,
   "metadata": {},
   "outputs": [],
   "source": [
    "import matplotlib.pyplot as plt"
   ]
  },
  {
   "cell_type": "code",
   "execution_count": 38,
   "metadata": {},
   "outputs": [
    {
     "data": {
      "text/plain": [
       "DecisionTreeClassifier(max_depth=3, max_leaf_nodes=5, splitter='random')"
      ]
     },
     "execution_count": 38,
     "metadata": {},
     "output_type": "execute_result"
    }
   ],
   "source": [
    "dtc.fit(X_test, y_test)"
   ]
  },
  {
   "cell_type": "code",
   "execution_count": 39,
   "metadata": {},
   "outputs": [],
   "source": [
    "from sklearn import tree"
   ]
  },
  {
   "cell_type": "code",
   "execution_count": 40,
   "metadata": {},
   "outputs": [
    {
     "data": {
      "text/plain": [
       "array([0, 0, 0, ..., 0, 0, 0], dtype=int64)"
      ]
     },
     "execution_count": 40,
     "metadata": {},
     "output_type": "execute_result"
    }
   ],
   "source": [
    "dtc.predict(X_train)"
   ]
  },
  {
   "cell_type": "code",
   "execution_count": 41,
   "metadata": {},
   "outputs": [
    {
     "data": {
      "text/plain": [
       "[Text(209.25, 190.26, 'X[7] <= 105.187\\ngini = 0.362\\nsamples = 9749\\nvalue = [7431, 2318]'),\n",
       " Text(167.4, 135.9, 'X[4] <= 0.936\\ngini = 0.347\\nsamples = 9564\\nvalue = [7428, 2136]'),\n",
       " Text(83.7, 81.53999999999999, 'X[8] <= 7.587\\ngini = 0.489\\nsamples = 3779\\nvalue = [2166, 1613]'),\n",
       " Text(41.85, 27.180000000000007, 'gini = 0.482\\nsamples = 3504\\nvalue = [2088, 1416]'),\n",
       " Text(125.55000000000001, 27.180000000000007, 'gini = 0.406\\nsamples = 275\\nvalue = [78, 197]'),\n",
       " Text(251.10000000000002, 81.53999999999999, 'X[7] <= 29.572\\ngini = 0.164\\nsamples = 5785\\nvalue = [5262, 523]'),\n",
       " Text(209.25, 27.180000000000007, 'gini = 0.143\\nsamples = 5569\\nvalue = [5137, 432]'),\n",
       " Text(292.95, 27.180000000000007, 'gini = 0.488\\nsamples = 216\\nvalue = [125, 91]'),\n",
       " Text(251.10000000000002, 135.9, 'gini = 0.032\\nsamples = 185\\nvalue = [3, 182]')]"
      ]
     },
     "execution_count": 41,
     "metadata": {},
     "output_type": "execute_result"
    },
    {
     "data": {
      "image/png": "[encoded data removed]",
      "text/plain": [
       "<Figure size 432x288 with 1 Axes>"
      ]
     },
     "metadata": {
      "needs_background": "light"
     },
     "output_type": "display_data"
    }
   ],
   "source": [
    "tree.plot_tree(dtc)\n",
    "#測試資料模型"
   ]
  },
  {
   "cell_type": "code",
   "execution_count": null,
   "metadata": {},
   "outputs": [],
   "source": []
  }
 ],
 "metadata": {
  "kernelspec": {
   "display_name": "Python 3",
   "language": "python",
   "name": "python3"
  },
  "language_info": {
   "codemirror_mode": {
    "name": "ipython",
    "version": 3
   },
   "file_extension": ".py",
   "mimetype": "text/x-python",
   "name": "python",
   "nbconvert_exporter": "python",
   "pygments_lexer": "ipython3",
   "version": "3.8.8"
  }
 },
 "nbformat": 4,
 "nbformat_minor": 4
}
